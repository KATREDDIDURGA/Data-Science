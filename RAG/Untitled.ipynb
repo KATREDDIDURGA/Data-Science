{
 "cells": [
  {
   "cell_type": "code",
   "execution_count": 1,
   "id": "f1436795",
   "metadata": {},
   "outputs": [],
   "source": [
    "from langchain.document_loaders.pdf import PyPDFDirectoryLoader"
   ]
  },
  {
   "cell_type": "code",
   "execution_count": 2,
   "id": "158f177b",
   "metadata": {},
   "outputs": [],
   "source": [
    "def load_documents():\n",
    "    document_loader = PyPDFDirectoryLoader(\"data\")\n",
    "    return document_loader.load()"
   ]
  },
  {
   "cell_type": "code",
   "execution_count": 3,
   "id": "ce992813",
   "metadata": {},
   "outputs": [
    {
     "name": "stdout",
     "output_type": "stream",
     "text": [
      "page_content=' \\n \\n \\nCOLLEGE  WORK -STUDY  \\nREFERENCE  \\nMANUAL  \\nAcademic Aid Year 20 23-2024  \\n \\nPROCEDURES  \\n \\nCOLLEGE  WOR K-STUDY PROGRAM  \\nFINANCIAL AID & SCHOLARSHIPS OFFICE  \\n \\nPhone:  (940)  565-4638  \\n    Fax: (940) 565-2738  \\n         Email:  Collegeworkstudy@unt.edu   \\n \\n ' metadata={'source': 'data\\\\23-24-UNT-College-Work-Study-Manual-002.pdf', 'page': 0}\n"
     ]
    }
   ],
   "source": [
    "documents = load_documents()\n",
    "print(documents[0])"
   ]
  },
  {
   "cell_type": "code",
   "execution_count": 4,
   "id": "8cdb42ff",
   "metadata": {},
   "outputs": [],
   "source": [
    "from langchain_text_splitters import RecursiveCharacterTextSplitter\n",
    "from langchain.schema.document import Document"
   ]
  },
  {
   "cell_type": "code",
   "execution_count": 5,
   "id": "192bd9e4",
   "metadata": {},
   "outputs": [],
   "source": [
    "def split_documents(documents:list[Document]):\n",
    "    text_splitter = RecursiveCharacterTextSplitter(chunk_size=200,chunk_overlap=80, length_function = len, is_separator_regex=False,)\n",
    "    return text_splitter.split_documents(documents)"
   ]
  },
  {
   "cell_type": "code",
   "execution_count": 6,
   "id": "feb666df",
   "metadata": {},
   "outputs": [
    {
     "ename": "NameError",
     "evalue": "name 'chunks' is not defined",
     "output_type": "error",
     "traceback": [
      "\u001b[1;31m---------------------------------------------------------------------------\u001b[0m",
      "\u001b[1;31mNameError\u001b[0m                                 Traceback (most recent call last)",
      "Cell \u001b[1;32mIn[6], line 1\u001b[0m\n\u001b[1;32m----> 1\u001b[0m \u001b[38;5;28mprint\u001b[39m(\u001b[38;5;124mf\u001b[39m\u001b[38;5;124m\"\u001b[39m\u001b[38;5;124mSplit \u001b[39m\u001b[38;5;132;01m{\u001b[39;00m\u001b[38;5;28mlen\u001b[39m(documents)\u001b[38;5;132;01m}\u001b[39;00m\u001b[38;5;124m documents into \u001b[39m\u001b[38;5;132;01m{\u001b[39;00m\u001b[38;5;28mlen\u001b[39m(chunks)\u001b[38;5;132;01m}\u001b[39;00m\u001b[38;5;124m chunks.\u001b[39m\u001b[38;5;124m\"\u001b[39m)\n",
      "\u001b[1;31mNameError\u001b[0m: name 'chunks' is not defined"
     ]
    }
   ],
   "source": [
    "print(f\"Split {len(documents)} documents into {len(chunks)} chunks.\")"
   ]
  },
  {
   "cell_type": "code",
   "execution_count": null,
   "id": "2a0f7817",
   "metadata": {},
   "outputs": [],
   "source": [
    "documents = load_documents()"
   ]
  },
  {
   "cell_type": "code",
   "execution_count": null,
   "id": "3ac26b27",
   "metadata": {},
   "outputs": [],
   "source": [
    "chunks = split_documents(documents)\n",
    "\n",
    "document = chunks[10]\n",
    "print(document.page_content)\n",
    "print(document.metadata)"
   ]
  },
  {
   "cell_type": "code",
   "execution_count": null,
   "id": "21fa46d0",
   "metadata": {},
   "outputs": [],
   "source": [
    "print(chunks[100])"
   ]
  },
  {
   "cell_type": "code",
   "execution_count": null,
   "id": "1feb3ea2",
   "metadata": {},
   "outputs": [],
   "source": [
    "from langchain_community.embeddings import OllamaEmbeddings"
   ]
  },
  {
   "cell_type": "code",
   "execution_count": null,
   "id": "148f6dc4",
   "metadata": {},
   "outputs": [],
   "source": [
    "def get_embedding_function():\n",
    "    #embeddings = BedrockEmbeddings(credentials_profile_name=\"default\", region_name=\"us-east-1\")\n",
    "    embeddings = OllamaEmbeddings(model=\"nomic-embed-text\")\n",
    "    return embeddings"
   ]
  },
  {
   "cell_type": "code",
   "execution_count": null,
   "id": "9bf0f6f2",
   "metadata": {},
   "outputs": [],
   "source": [
    "#using chroma db as vector database\n",
    "from langchain.vectorstores.chroma import Chroma\n",
    "def add_to_chroma(chunks:list[Document]):\n",
    "    db = Chroma(persist_directory = CHROMA_PATH, embedding_function=get_embedding_function())\n",
    "    db.add_documents(new_chunks,ids=new_chunk_ids)\n",
    "    db.persist()\n",
    "    "
   ]
  },
  {
   "cell_type": "code",
   "execution_count": null,
   "id": "ec0cbd29",
   "metadata": {},
   "outputs": [],
   "source": [
    "#adding id for each chunk in the form source:page:chunk, data/workstudy.pdf:0:0\n",
    "last_page_id = None\n",
    "current_chunk_index = 0\n",
    "for chunk in chunks:\n",
    "    source = chunk.metadata.get(\"source\")\n",
    "    page = chunk.metadata.get(\"page\")\n",
    "    current_page_id = f\"{source}:{page}\"\n",
    "        \n",
    "    #print(f\"Processing {current_page_id}\")\n",
    "        #if the page id is same as the last one, increment the index\n",
    "    if current_page_id == last_page_id:\n",
    "        current_chunk_index += 1\n",
    "    else:\n",
    "        current_chunk_index = 0\n",
    "        last_page_id = current_page_id \n",
    "    chunk_id = f\"{current_page_id}:{current_chunk_index}\"\n",
    "    #adding this chunk id to the metadatta of chunk\n",
    "    chunk.metadata[\"id\"] = chunk_id\n",
    "    #print(f\"Assigned ID: {chunk_id}\")    "
   ]
  },
  {
   "cell_type": "code",
   "execution_count": null,
   "id": "e93a4905",
   "metadata": {},
   "outputs": [],
   "source": [
    "for chunk in chunks[:10]:  # Adjust the range as needed\n",
    "    print(chunk.metadata[\"id\"])"
   ]
  },
  {
   "cell_type": "code",
   "execution_count": null,
   "id": "1fae0bd8",
   "metadata": {},
   "outputs": [],
   "source": [
    "from langchain.vectorstores.chroma import Chroma"
   ]
  },
  {
   "cell_type": "code",
   "execution_count": null,
   "id": "7d3fa229",
   "metadata": {},
   "outputs": [],
   "source": []
  },
  {
   "cell_type": "code",
   "execution_count": null,
   "id": "dd537366",
   "metadata": {},
   "outputs": [],
   "source": []
  }
 ],
 "metadata": {
  "kernelspec": {
   "display_name": "Python 3 (ipykernel)",
   "language": "python",
   "name": "python3"
  },
  "language_info": {
   "codemirror_mode": {
    "name": "ipython",
    "version": 3
   },
   "file_extension": ".py",
   "mimetype": "text/x-python",
   "name": "python",
   "nbconvert_exporter": "python",
   "pygments_lexer": "ipython3",
   "version": "3.10.9"
  }
 },
 "nbformat": 4,
 "nbformat_minor": 5
}
