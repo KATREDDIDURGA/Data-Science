{
 "cells": [
  {
   "cell_type": "code",
   "execution_count": 1,
   "id": "06c9cc95-92dc-4ae3-88b2-eb2dcf8af83d",
   "metadata": {},
   "outputs": [],
   "source": [
    "import re"
   ]
  },
  {
   "cell_type": "code",
   "execution_count": 2,
   "id": "ea7311ce-f8ed-41bf-af6e-4ff728701b39",
   "metadata": {},
   "outputs": [],
   "source": [
    "chat1 = \"User: My order number is 87654321\"\n",
    "chat2 = \"my email ID is user789@example.com.\"\n",
    "chat3 = \"User: mobile number 9876543210.\"\n"
   ]
  },
  {
   "cell_type": "code",
   "execution_count": null,
   "id": "d676e67e-c6ae-46cd-a0c5-4264b0184017",
   "metadata": {},
   "outputs": [],
   "source": []
  }
 ],
 "metadata": {
  "kernelspec": {
   "display_name": "Python 3 (ipykernel)",
   "language": "python",
   "name": "python3"
  },
  "language_info": {
   "codemirror_mode": {
    "name": "ipython",
    "version": 3
   },
   "file_extension": ".py",
   "mimetype": "text/x-python",
   "name": "python",
   "nbconvert_exporter": "python",
   "pygments_lexer": "ipython3",
   "version": "3.12.3"
  }
 },
 "nbformat": 4,
 "nbformat_minor": 5
}
