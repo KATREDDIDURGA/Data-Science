{
  "nbformat": 4,
  "nbformat_minor": 0,
  "metadata": {
    "colab": {
      "provenance": []
    },
    "kernelspec": {
      "name": "python3",
      "display_name": "Python 3"
    },
    "language_info": {
      "name": "python"
    }
  },
  "cells": [
    {
      "cell_type": "markdown",
      "source": [
        "# Meme Generator that Understands Context Using NLP\n",
        "\n",
        "## Objective:\n",
        "Develop a meme generator that not only places text on images but also understands the context of user input to create humorous or contextually appropriate memes using NLP and text generation techniques.\n",
        "\n",
        "### Technologies Used:\n",
        "\n",
        "* Programming Language: Python\n",
        "* Libraries/Frameworks: Hugging Face Transformers, NLTK, spaCy, PIL, Flask/Streamlit\n",
        "* Frontend: Streamlit (or Flask for a more complex web app)\n",
        "* NLP Models: Pre-trained language models (e.g., GPT-3, BERT)\n",
        "\n",
        "### Features:\n",
        "\n",
        "* Text Preprocessing: Clean user input (remove stopwords, tokenize).\n",
        "* Context Understanding: Use pre-trained models to understand the context and intent of the input.\n",
        "* Text Generation: Generate humorous or contextually relevant text for memes.\n",
        "* Meme Templates: Allow users to choose meme templates (or upload their own).\n",
        "* Text Overlay: Automatically overlay the generated text on the selected image.\n",
        "* Download Option: Provide users the ability to download the generated meme\n",
        "\n",
        "\n",
        "### Steps for Implementation:\n",
        "\n",
        "* Text Input: Accept user input through an intuitive interface (text box).\n",
        "* Text Processing: Process the text using NLP techniques (tokenization, stemming).\n",
        "* Context Analysis: Use GPT-3 or another NLP model to understand the context and generate meme text.\n",
        "* Image Selection: Offer predefined meme templates (or allow users to upload their own).\n",
        "* Overlay Text: Use PIL/OpenCV to overlay the generated text on the image.\n",
        "* User Interface: Design a simple and user-friendly interface using Streamlit or Flask.\n",
        "* Output: Allow users to preview and download the meme."
      ],
      "metadata": {
        "id": "Q3MwIsrexLQz"
      }
    },
    {
      "cell_type": "markdown",
      "source": [
        "Dataset\n",
        "\n",
        "-->templates(contains 99 json files and one folder \"img\" with all images)\n",
        "\n",
        "-->memes (contains json files 99)"
      ],
      "metadata": {
        "id": "E7EhLjcIw4go"
      }
    },
    {
      "cell_type": "code",
      "execution_count": 65,
      "metadata": {
        "colab": {
          "base_uri": "https://localhost:8080/"
        },
        "id": "duj_NgC3wwzt",
        "outputId": "0032c35a-7481-4b46-809c-fa557a5da7da"
      },
      "outputs": [
        {
          "output_type": "stream",
          "name": "stdout",
          "text": [
            "Requirement already satisfied: Pillow in /usr/local/lib/python3.11/dist-packages (11.1.0)\n"
          ]
        }
      ],
      "source": [
        "# !pip install transformers nltk spacy pillow streamlit flask\n",
        "# !pip install openai\n",
        "# !pip install streamlit\n",
        "# !pip install pyngrok\n",
        "!pip install Pillow\n"
      ]
    },
    {
      "cell_type": "code",
      "source": [],
      "metadata": {
        "id": "Q112t-zqyXoK"
      },
      "execution_count": 65,
      "outputs": []
    },
    {
      "cell_type": "code",
      "source": [
        "import os\n",
        "# Set your API key here (preferably from a secret location, not hardcoded)\n",
        "from google.colab import userdata\n",
        "from openai import OpenAI\n",
        "\n",
        "# Instantiate the OpenAI client with your API key\n",
        "client = OpenAI(api_key=userdata.get('openai_api_key'))\n",
        "\n"
      ],
      "metadata": {
        "id": "bPspScOr0iji"
      },
      "execution_count": 66,
      "outputs": []
    },
    {
      "cell_type": "markdown",
      "source": [],
      "metadata": {
        "id": "XSaR70Hd8JuX"
      }
    },
    {
      "cell_type": "code",
      "source": [
        "def chat_with_gpt():\n",
        "    while True:\n",
        "        # Get user input\n",
        "        user_input = input(\"You: \")\n",
        "\n",
        "        # Create a chat completion request\n",
        "        chat_completion = client.chat.completions.create(\n",
        "            messages=[\n",
        "                {\n",
        "                    \"role\": \"user\",\n",
        "                    \"content\": user_input,\n",
        "                }\n",
        "            ],\n",
        "            model=\"gpt-4o\",  # Make sure the specified model is available in your API plan\n",
        "        )\n",
        "\n",
        "        # Extract and print the response content\n",
        "        response = chat_completion.choices[0].message.content\n",
        "        print(f\"AI: {response}\")\n",
        "\n",
        "        # Optionally, add a break condition\n",
        "        if user_input.lower() in (\"exit\", \"quit\"):\n",
        "            print(\"Ending chat session.\")\n",
        "            break\n",
        "\n",
        "# Start the chat session\n",
        "chat_with_gpt()"
      ],
      "metadata": {
        "colab": {
          "base_uri": "https://localhost:8080/"
        },
        "id": "OBRqsmjC9np0",
        "outputId": "4de0da2c-a148-42fa-bae2-0bcd6914bf9c"
      },
      "execution_count": 67,
      "outputs": [
        {
          "output_type": "stream",
          "name": "stdout",
          "text": [
            "You: hi\n",
            "AI: Hello! How can I assist you today?\n",
            "You: exit\n",
            "AI: If you have any more questions or need assistance, feel free to reach out. Have a great day!\n",
            "Ending chat session.\n"
          ]
        }
      ]
    },
    {
      "cell_type": "markdown",
      "source": [
        "Create a simple input interface where the user can type a prompt or context for the meme text. After getting the input, you can clean and preprocess the text (like removing stop words, special characters, etc.)."
      ],
      "metadata": {
        "id": "gnRTnPO1AnJX"
      }
    },
    {
      "cell_type": "code",
      "source": [
        "import re\n",
        "from nltk.corpus import stopwords\n",
        "import nltk\n",
        "# Download the stopwords\n",
        "nltk.download('stopwords')\n",
        "\n",
        "\n"
      ],
      "metadata": {
        "colab": {
          "base_uri": "https://localhost:8080/"
        },
        "id": "ufLLKouk-SUf",
        "outputId": "4c0bef33-ab92-4e8b-9a3e-2d7831a5acad"
      },
      "execution_count": 68,
      "outputs": [
        {
          "output_type": "stream",
          "name": "stderr",
          "text": [
            "[nltk_data] Downloading package stopwords to /root/nltk_data...\n",
            "[nltk_data]   Package stopwords is already up-to-date!\n"
          ]
        },
        {
          "output_type": "execute_result",
          "data": {
            "text/plain": [
              "True"
            ]
          },
          "metadata": {},
          "execution_count": 68
        }
      ]
    },
    {
      "cell_type": "markdown",
      "source": [
        "Now, the next step is to generate meme text using the processed user input.\n",
        "\n",
        "You can use OpenAI's GPT model to generate meme text based on the user's input. Focus on getting a short, humorous, or contextually relevant output for the meme text."
      ],
      "metadata": {
        "id": "O8-fuq8IBeoB"
      }
    },
    {
      "cell_type": "code",
      "source": [
        "def preprocess_text(input_text):\n",
        "    \"\"\"\n",
        "    Preprocess the text by removing special characters and stopwords.\n",
        "\n",
        "    :param input_text: str, raw user input\n",
        "    :return: str, cleaned text\n",
        "    \"\"\"\n",
        "    # Convert text to lowercase\n",
        "    text = input_text.lower()\n",
        "\n",
        "    # Remove special characters and numbers\n",
        "    text = re.sub(r'[^a-zA-Z\\s]', '', text)\n",
        "\n",
        "    # Remove stop words\n",
        "    stop_words = set(stopwords.words('english'))\n",
        "    words = text.split()\n",
        "    cleaned_text = ' '.join(word for word in words if word not in stop_words)\n",
        "\n",
        "    return cleaned_text\n",
        "\n",
        "def get_meme_prompt():\n",
        "    \"\"\"\n",
        "    Input interface to get user prompt for meme text.\n",
        "    \"\"\"\n",
        "    while True:\n",
        "        # Get user input\n",
        "        user_input = input(\"Enter meme prompt or context (or type 'exit' to quit): \")\n",
        "\n",
        "        if user_input.lower() in ('exit', 'quit'):\n",
        "            print(\"Exiting...\")\n",
        "            break\n",
        "\n",
        "        # Preprocess the input text\n",
        "        cleaned_input = preprocess_text(user_input)\n",
        "\n",
        "        # Print the cleaned input (just for demonstration purposes)\n",
        "        print(f\"Cleaned Input: {cleaned_input}\")\n",
        "\n",
        "        # Here you can send cleaned_input to the AI or any other processing\n",
        "        # For this illustration, we simulate AI response generation:\n",
        "        chat_completion = client.chat.completions.create(\n",
        "            messages=[\n",
        "                {\n",
        "                    \"role\": \"user\",\n",
        "                    \"content\": cleaned_input,\n",
        "                }\n",
        "            ],\n",
        "            model=\"gpt-4o\",\n",
        "        )\n",
        "\n",
        "        # Extract and print the AI's response\n",
        "        response = chat_completion.choices[0].message.content\n",
        "        print(f\"AI's Meme Text Suggestion: {response}\")\n",
        "\n",
        "# Start the meme prompt input session\n",
        "get_meme_prompt()"
      ],
      "metadata": {
        "colab": {
          "base_uri": "https://localhost:8080/"
        },
        "id": "yMIR3uuOA4d7",
        "outputId": "5cd78d18-87f8-470f-843e-a540a9e860f5"
      },
      "execution_count": 69,
      "outputs": [
        {
          "output_type": "stream",
          "name": "stdout",
          "text": [
            "Enter meme prompt or context (or type 'exit' to quit): exit\n",
            "Exiting...\n"
          ]
        }
      ]
    },
    {
      "cell_type": "markdown",
      "source": [
        "Choose a meme template from the dataset (either from the predefined templates or allow users to browse).\n",
        "\n",
        "\n",
        "Once the template is selected, you can overlay the generated meme text onto the image using libraries like PIL or OpenCV."
      ],
      "metadata": {
        "id": "_BriJ_9TEdA-"
      }
    },
    {
      "cell_type": "code",
      "source": [
        "# import zipfile\n",
        "\n",
        "\n",
        "# # Path where your dataset is uploaded (e.g., '/content/templates.zip')\n",
        "# zip_file_path = 'templates.zip'  # Change if different path\n",
        "# output_dir = '/content/memes_dataset'  # Directory to unzip into\n",
        "\n",
        "# # Step 1: Unzip the uploaded file\n",
        "# with zipfile.ZipFile(zip_file_path, 'r') as zip_ref:\n",
        "#     zip_ref.extractall(output_dir)\n",
        "\n",
        "# # Step 2: Check the directory structure\n",
        "# os.listdir(output_dir)\n"
      ],
      "metadata": {
        "id": "6HKtlqoDA6-M"
      },
      "execution_count": 70,
      "outputs": []
    },
    {
      "cell_type": "code",
      "source": [
        "# import json\n",
        "\n",
        "# # Path to the directory with unzipped JSON files\n",
        "# json_dir_path = os.path.join(output_dir, 'templates')  # Assuming JSON files are in 'templates' subdirectory\n",
        "\n",
        "# def load_json_files(json_directory):\n",
        "#     \"\"\"\n",
        "#     Load all JSON files from a given directory and extract template information.\n",
        "\n",
        "#     :param json_directory: str, path to the directory containing JSON files\n",
        "#     :return: list of dicts, each containing details of a meme template\n",
        "#     \"\"\"\n",
        "#     meme_templates = []\n",
        "\n",
        "#     # Iterate over all files in the specified directory\n",
        "#     for file_name in os.listdir(json_directory):\n",
        "#         if file_name.endswith('.json'):  # Ensure we're only processing JSON files\n",
        "#             json_file_path = os.path.join(json_directory, file_name)\n",
        "\n",
        "#             with open(json_file_path, 'r') as file:\n",
        "#                 data = json.load(file)\n",
        "\n",
        "#             # Extract key details based on provided JSON structure\n",
        "#             template_name = data.get('title')\n",
        "#             template_url = data.get('template_url')\n",
        "#             alternative_names = data.get('alternative_names', '')\n",
        "\n",
        "#             # Split alternative names (if it is a single string) into a list\n",
        "#             alternative_name_list = [name.strip() for name in alternative_names.split(',')] if alternative_names else []\n",
        "\n",
        "#             meme_template_info = {\n",
        "#                 'name': template_name,\n",
        "#                 'url': template_url,\n",
        "#                 'alternative_names': alternative_name_list\n",
        "#             }\n",
        "\n",
        "#             meme_templates.append(meme_template_info)\n",
        "\n",
        "#     return meme_templates\n",
        "\n",
        "# # Load the meme templates from JSON files\n",
        "# meme_templates = load_json_files(json_dir_path)\n",
        "\n",
        "# # Display the extracted meme template information\n",
        "# for template in meme_templates:\n",
        "#     print(f\"Template Name: {template['name']}\")\n",
        "#     print(f\"Template URL: {template['url']}\")\n",
        "#     if template['alternative_names']:\n",
        "#         print(f\"Alternative Names: {', '.join(template['alternative_names'])}\")\n",
        "#     print('---')"
      ],
      "metadata": {
        "id": "VFhqHdCSEuGX"
      },
      "execution_count": 71,
      "outputs": []
    },
    {
      "cell_type": "markdown",
      "source": [
        "Create a user-friendly interface: You need to allow users to interact with your meme generator.\n",
        "\n",
        "A simple interface where users can:\n",
        "\n",
        "Select a meme template from the available options.\n",
        "\n",
        "Input their own text or provide context for the meme."
      ],
      "metadata": {
        "id": "DgM333jMGxXE"
      }
    },
    {
      "cell_type": "code",
      "source": [
        "# def display_templates(templates):\n",
        "#     print(\"\\nAvailable Meme Templates:\")\n",
        "#     for idx, template in enumerate(templates, start=1):\n",
        "#         print(f\"{idx}. {template['name']} (URL: {template['url']})\")\n",
        "#     print(\"---\")\n",
        "\n",
        "# def select_template(templates):\n",
        "#     while True:\n",
        "#         try:\n",
        "#             choice = int(input(\"Select a meme template by number: \")) - 1\n",
        "#             if 0 <= choice < len(templates):\n",
        "#                 return templates[choice]\n",
        "#             else:\n",
        "#                 print(\"Invalid choice. Please select a valid number.\")\n",
        "#         except ValueError:\n",
        "#             print(\"Please enter a number.\")\n",
        "\n",
        "# def get_meme_text():\n",
        "#     return input(\"Enter the text for your meme: \")\n",
        "\n",
        "# def main():\n",
        "#     meme_templates = load_json_files(json_dir_path)\n",
        "#     display_templates(meme_templates)\n",
        "\n",
        "#     selected_template = select_template(meme_templates)\n",
        "#     print(f\"\\nYou selected: {selected_template['name']}\\n\")\n",
        "\n",
        "#     meme_text = get_meme_text()\n",
        "#     print(\"\\nGenerating Meme...\")\n",
        "#     print(f\"Template URL: {selected_template['url']}\")\n",
        "#     print(f\"Meme Text: {meme_text}\")\n",
        "#     # Here you would typically pass this information to a function that creates the meme image.\n",
        "#     # For demonstration, we're just printing the inputs.\n",
        "\n",
        "# if __name__ == '__main__':\n",
        "#     main()"
      ],
      "metadata": {
        "id": "lSZurLVKGZJd"
      },
      "execution_count": 72,
      "outputs": []
    },
    {
      "cell_type": "code",
      "source": [
        "import zipfile\n",
        "import os\n",
        "import json\n",
        "from PIL import Image\n",
        "from PIL import ImageFont, ImageDraw\n",
        "\n",
        "# Path where your dataset is uploaded (e.g., '/content/templates.zip')\n",
        "zip_file_path = 'templates.zip'  # Change if different path\n",
        "output_dir = '/content/memes_dataset'  # Directory to unzip into\n",
        "\n",
        "# Step 1: Unzip the uploaded file\n",
        "with zipfile.ZipFile(zip_file_path, 'r') as zip_ref:\n",
        "    zip_ref.extractall(output_dir)\n",
        "\n",
        "# Step 2: Check the directory structure\n",
        "print(os.listdir(output_dir))\n",
        "\n",
        "# Path to the directory with unzipped JSON files\n",
        "json_dir_path = os.path.join(output_dir, 'templates')  # Assuming JSON files are in 'templates' subdirectory\n",
        "\n",
        "def load_json_files(json_directory):\n",
        "    \"\"\"\n",
        "    Load all JSON files from a given directory and extract template information.\n",
        "\n",
        "    :param json_directory: str, path to the directory containing JSON files\n",
        "    :return: list of dicts, each containing details of a meme template\n",
        "    \"\"\"\n",
        "    meme_templates = []\n",
        "\n",
        "    # Iterate over all files in the specified directory\n",
        "    for file_name in os.listdir(json_directory):\n",
        "        if file_name.endswith('.json'):  # Ensure we're only processing JSON files\n",
        "            json_file_path = os.path.join(json_directory, file_name)\n",
        "\n",
        "            with open(json_file_path, 'r') as file:\n",
        "                data = json.load(file)\n",
        "\n",
        "            # Extract key details based on provided JSON structure\n",
        "            template_name = data.get('title')\n",
        "            template_url = data.get('template_url')\n",
        "            alternative_names = data.get('alternative_names', '')\n",
        "\n",
        "            # Split alternative names (if it is a single string) into a list\n",
        "            alternative_name_list = [name.strip() for name in alternative_names.split(',')] if alternative_names else []\n",
        "\n",
        "            meme_template_info = {\n",
        "                'name': template_name,\n",
        "                'url': template_url,\n",
        "                'alternative_names': alternative_name_list\n",
        "            }\n",
        "\n",
        "            meme_templates.append(meme_template_info)\n",
        "\n",
        "    return meme_templates\n",
        "\n",
        "def display_templates(templates):\n",
        "    print(\"\\nAvailable Meme Templates:\")\n",
        "    for idx, template in enumerate(templates, start=1):\n",
        "        print(f\"{idx}. {template['name']} (URL: {template['url']})\")\n",
        "    print(\"---\")\n",
        "\n",
        "def select_template(templates):\n",
        "    while True:\n",
        "        try:\n",
        "            choice = int(input(\"Select a meme template by number: \")) - 1\n",
        "            if 0 <= choice < len(templates):\n",
        "                return templates[choice]\n",
        "            else:\n",
        "                print(\"Invalid choice. Please select a valid number.\")\n",
        "        except ValueError:\n",
        "            print(\"Please enter a number.\")\n",
        "\n",
        "def get_meme_text():\n",
        "    return input(\"Enter the text for your meme: \")\n",
        "\n",
        "def main():\n",
        "    meme_templates = load_json_files(json_dir_path)\n",
        "    display_templates(meme_templates)\n",
        "\n",
        "    selected_template = select_template(meme_templates)\n",
        "    print(f\"\\nYou selected: {selected_template['name']}\\n\")\n",
        "\n",
        "    meme_text = get_meme_text()\n",
        "    print(\"\\nGenerating Meme...\")\n",
        "    print(f\"Template URL: {selected_template['url']}\")\n",
        "    print(f\"Meme Text: {meme_text}\")\n",
        "\n",
        "    print(\"---------------------------\")\n",
        "    image_path = selected_template['url'] # The URL of the image\n",
        "    image = Image.open(image_path)\n",
        "\n",
        "    # Load font (you can use a default font or upload a custom one)\n",
        "    font = ImageFont.load_default()  # You can adjust this to a specific font if needed\n",
        "\n",
        "    # Initialize ImageDraw to add text to the image\n",
        "    draw = ImageDraw.Draw(image)\n",
        "\n",
        "    # Set text position (you can change this based on your image)\n",
        "    text_position = (50, 50)\n",
        "    text_color = (255, 255, 255)  # White text color (you can change this)\n",
        "\n",
        "    draw.text(text_position, meme_text, font=font, fill=text_color)\n",
        "    image.show()  # This will display the image in the notebook\n",
        "\n",
        "    # Optionally, save the image\n",
        "    image.save(\"/content/meme_with_text.png\")\n",
        "\n",
        "\n",
        "\n",
        "if __name__ == '__main__':\n",
        "    main()\n"
      ],
      "metadata": {
        "colab": {
          "base_uri": "https://localhost:8080/",
          "height": 1000
        },
        "id": "MTelj5QCHu34",
        "outputId": "0899e1c1-7bbb-43a2-d13f-4a59d2deee03"
      },
      "execution_count": 73,
      "outputs": [
        {
          "output_type": "stream",
          "name": "stdout",
          "text": [
            "['epic_handshake_meme_template.jpg', 'say_that_again_i_dare_you_meme_template.jpg', 'dr_evil_laser_meme_template.jpg', 'picard_wtf_meme_template.jpg', 'philosoraptor_meme_template.jpg', 'jack_sparrow_being_chased_meme_template.jpg', 'captain_picard_facepalm_meme_template.jpg', 'running_away_balloon_meme_template.jpg', 'yo_dawg_heard_you_meme_template.jpg', 'maury_lie_detector_meme_template.jpg', 'uncle_sam_meme_template.jpg', 'one_does_not_simply_meme_template.jpg', 'change_my_mind_meme_template.jpg', 'evil_toddler_meme_template.jpg', 'am_i_the_only_one_around_here_meme_template.jpg', 'sad_pablo_escobar_meme_template.jpg', 'awkward_moment_sealion_meme_template.jpg', 'success_kid_meme_template.jpg', 'inhaling_seagull_meme_template.jpg', \"y'all_got_any_more_of_that_meme_template.jpg\", 'batman_slapping_robin_meme_template.jpg', 'marked_safe_from_meme_template.jpg', 'monkey_puppet_meme_template.jpg', 'tuxedo_winnie_the_pooh_meme_template.jpg', 'put_it_somewhere_else_patrick_meme_template.jpg', 'that_would_be_great_meme_template.jpg', 'roll_safe_think_about_it_meme_template.jpg', 'conspiracy_keanu_meme_template.jpg', 'hard_to_swallow_pills_meme_template.jpg', 'drake_hotline_bling_meme_template.jpg', 'mocking_spongebob_meme_template.jpg', 'leonardo_dicaprio_cheers_meme_template.jpg', 'laughing_men_in_suits_meme_template.jpg', 'is_this_a_pigeon_meme_template.jpg', 'third_world_skeptical_kid_meme_template.jpg', 'mugatu_so_hot_right_now_meme_template.jpg', 'y_u_no_meme_template.jpg', 'american_chopper_argument_meme_template.jpg', 'woman_yelling_at_cat_meme_template.jpg', 'the_scroll_of_truth_meme_template.jpg', 'archer_meme_template.jpg', 'sparta_leonidas_meme_template.jpg', 'doge_meme_template.jpg', 'finding_neverland_meme_template.jpg', 'back_in_my_day_meme_template.jpg', 'confession_bear_meme_template.jpg', 'the_rock_driving_meme_template.jpg', 'spongebob_ight_imma_head_out_meme_template.jpg', 'who_killed_hannibal_meme_template.jpg', 'x_all_the_y_meme_template.jpg', 'scumbag_steve_meme_template.jpg', \"this_is_where_i'd_put_my_trophy_if_i_had_one_meme_template.jpg\", 'oprah_you_get_a_meme_template.jpg', 'waiting_skeleton_meme_template.jpg', 'steve_harvey_meme_template.jpg', 'look_at_me_meme_template.jpg', 'ancient_aliens_meme_template.jpg', 'expanding_brain_meme_template.jpg', 'grumpy_cat_meme_template.jpg', \"don't_you_squidward_meme_template.jpg\", 'face_you_make_robert_downey_jr_meme_template.jpg', 'be_like_bill_meme_template.jpg', 'hide_the_pain_harold_meme_template.jpg', 'blank_nut_button_meme_template.jpg', 'x,_x_everywhere_meme_template.jpg', 'two_buttons_meme_template.jpg', 'distracted_boyfriend_meme_template.jpg', '10_guy_meme_template.jpg', 'brace_yourselves_x_is_coming_meme_template.jpg', 'and_everybody_loses_their_minds_meme_template.jpg', 'star_wars_yoda_meme_template.jpg', 'boardroom_meeting_suggestion_meme_template.jpg', 'third_world_success_kid_meme_template.jpg', \"but_that's_none_of_my_business_meme_template.jpg\", 'the_most_interesting_man_in_the_world_meme_template.jpg', 'creepy_condescending_wonka_meme_template.jpg', 'see_nobody_cares_meme_template.jpg', \"ain't_nobody_got_time_for_that_meme_template.jpg\", 'imagination_spongebob_meme_template.jpg', 'aaaaand_its_gone_meme_template.jpg', 'skeptical_baby_meme_template.jpg', 'grandma_finds_the_internet_meme_template.jpg', 'too_damn_high_meme_template.jpg', 'who_would_win?_meme_template.jpg', 'trump_bill_signing_meme_template.jpg', \"i'll_just_wait_here_meme_template.jpg\", 'matrix_morpheus_meme_template.jpg', 'disaster_girl_meme_template.jpg', 'templates', 'uno_draw_25_cards_meme_template.jpg', 'unsettled_tom_meme_template.jpg', 'bad_luck_brian_meme_template.jpg', 'black_girl_wat_meme_template.jpg', 'first_world_problems_meme_template.jpg', 'bernie_i_am_once_again_asking_for_your_support_meme_template.jpg', 'bad_pun_dog_meme_template.jpg', 'left_exit_12_off_ramp_meme_template.jpg', 'surprised_pikachu_meme_template.jpg', 'evil_kermit_meme_template.jpg', 'futurama_fry_meme_template.jpg', 'i_should_buy_a_boat_cat_meme_template.jpg']\n",
            "\n",
            "Available Meme Templates:\n",
            "1. Scumbag Steve Meme Template (URL: https://imgflip.com/s/meme/Scumbag-Steve.jpg)\n",
            "2. Matrix Morpheus Meme Template (URL: https://imgflip.com/s/meme/Matrix-Morpheus.jpg)\n",
            "3. See Nobody Cares Meme Template (URL: https://imgflip.com/s/meme/See-Nobody-Cares.jpg)\n",
            "4. Drake Hotline Bling Meme Template (URL: https://imgflip.com/s/meme/Drake-Hotline-Bling.jpg)\n",
            "5. Sparta Leonidas Meme Template (URL: https://imgflip.com/s/meme/Sparta-Leonidas.jpg)\n",
            "6. Put It Somewhere Else Patrick Meme Template (URL: https://imgflip.com/s/meme/Put-It-Somewhere-Else-Patrick.jpg)\n",
            "7. Unsettled Tom Meme Template (URL: https://imgflip.com/s/meme/Unsettled-Tom.jpg)\n",
            "8. That Would Be Great Meme Template (URL: https://imgflip.com/s/meme/That-Would-Be-Great.jpg)\n",
            "9. 10 Guy Meme Template (URL: https://imgflip.com/s/meme/10-Guy.jpg)\n",
            "10. Mugatu So Hot Right Now Meme Template (URL: https://imgflip.com/s/meme/Mugatu-So-Hot-Right-Now.jpg)\n",
            "11. Boardroom Meeting Suggestion Meme Template (URL: https://imgflip.com/s/meme/Boardroom-Meeting-Suggestion.jpg)\n",
            "12. The Rock Driving Meme Template (URL: https://imgflip.com/s/meme/The-Rock-Driving.jpg)\n",
            "13. Say That Again I Dare You Meme Template (URL: https://imgflip.com/s/meme/Say-That-Again-I-Dare-You.jpg)\n",
            "14. Two Buttons Meme Template (URL: https://imgflip.com/s/meme/Two-Buttons.jpg)\n",
            "15. Awkward Moment Sealion Meme Template (URL: https://imgflip.com/s/meme/Awkward-Moment-Sealion.jpg)\n",
            "16. Brace Yourselves X is Coming Meme Template (URL: https://imgflip.com/s/meme/Brace-Yourselves-X-is-Coming.jpg)\n",
            "17. Woman Yelling At Cat Meme Template (URL: https://imgflip.com/s/meme/Woman-Yelling-At-Cat.jpg)\n",
            "18. Distracted Boyfriend Meme Template (URL: https://imgflip.com/s/meme/Distracted-Boyfriend.jpg)\n",
            "19. Third World Success Kid Meme Template (URL: https://imgflip.com/s/meme/Third-World-Success-Kid.jpg)\n",
            "20. One Does Not Simply Meme Template (URL: https://imgflip.com/s/meme/One-Does-Not-Simply.jpg)\n",
            "21. American Chopper Argument Meme Template (URL: https://imgflip.com/s/meme/American-Chopper-Argument.jpg)\n",
            "22. Running Away Balloon Meme Template (URL: https://imgflip.com/s/meme/Running-Away-Balloon.jpg)\n",
            "23. Uncle Sam Meme Template (URL: https://imgflip.com/s/meme/Uncle-Sam.jpg)\n",
            "24. Too Damn High Meme Template (URL: https://imgflip.com/s/meme/Too-Damn-High.jpg)\n",
            "25. X, X Everywhere Meme Template (URL: https://imgflip.com/s/meme/X-X-Everywhere.jpg)\n",
            "26. Y U No Meme Template (URL: https://imgflip.com/s/meme/Y-U-No.jpg)\n",
            "27. Bad Pun Dog Meme Template (URL: https://imgflip.com/s/meme/Bad-Pun-Dog.jpg)\n",
            "28. Aaaaand Its Gone Meme Template (URL: https://imgflip.com/s/meme/Aaaaand-Its-Gone.jpg)\n",
            "29. Epic Handshake Meme Template (URL: https://imgflip.com/s/meme/Epic-Handshake.jpg)\n",
            "30. Expanding Brain Meme Template (URL: https://imgflip.com/s/meme/Expanding-Brain.jpg)\n",
            "31. Success Kid Meme Template (URL: https://imgflip.com/s/meme/Success-Kid.jpg)\n",
            "32. Hard To Swallow Pills Meme Template (URL: https://imgflip.com/s/meme/Hard-To-Swallow-Pills.jpg)\n",
            "33. Left Exit 12 Off Ramp Meme Template (URL: https://imgflip.com/s/meme/Left-Exit-12-Off-Ramp.jpg)\n",
            "34. Grumpy Cat Meme Template (URL: https://imgflip.com/s/meme/Grumpy-Cat.jpg)\n",
            "35. Am I The Only One Around Here Meme Template (URL: https://imgflip.com/s/meme/Am-I-The-Only-One-Around-Here.jpg)\n",
            "36. Sad Pablo Escobar Meme Template (URL: https://imgflip.com/s/meme/Sad-Pablo-Escobar.jpg)\n",
            "37. Is This A Pigeon Meme Template (URL: https://imgflip.com/s/meme/Is-This-A-Pigeon.jpg)\n",
            "38. Philosoraptor Meme Template (URL: https://imgflip.com/s/meme/Philosoraptor.jpg)\n",
            "39. First World Problems Meme Template (URL: https://imgflip.com/s/meme/First-World-Problems.jpg)\n",
            "40. Ain't Nobody Got Time For That Meme Template (URL: https://imgflip.com/s/meme/Aint-Nobody-Got-Time-For-That.jpg)\n",
            "41. Finding Neverland Meme Template (URL: https://imgflip.com/s/meme/Finding-Neverland.jpg)\n",
            "42. Laughing Men In Suits Meme Template (URL: https://imgflip.com/s/meme/Laughing-Men-In-Suits.jpg)\n",
            "43. Skeptical Baby Meme Template (URL: https://imgflip.com/s/meme/Skeptical-Baby.jpg)\n",
            "44. Evil Kermit Meme Template (URL: https://imgflip.com/s/meme/Evil-Kermit.jpg)\n",
            "45. Yo Dawg Heard You Meme Template (URL: https://imgflip.com/s/meme/Yo-Dawg-Heard-You.jpg)\n",
            "46. Don't You Squidward Meme Template (URL: https://imgflip.com/s/meme/Dont-You-Squidward.jpg)\n",
            "47. I Should Buy A Boat Cat Meme Template (URL: https://imgflip.com/s/meme/I-Should-Buy-A-Boat-Cat.jpg)\n",
            "48. This Is Where I'd Put My Trophy If I Had One Meme Template (URL: https://imgflip.com/s/meme/This-Is-Where-Id-Put-My-Trophy-If-I-Had-One.jpg)\n",
            "49. Disaster Girl Meme Template (URL: https://imgflip.com/s/meme/Disaster-Girl.jpg)\n",
            "50. Confession Bear Meme Template (URL: https://imgflip.com/s/meme/Confession-Bear.jpg)\n",
            "51. Conspiracy Keanu Meme Template (URL: https://imgflip.com/s/meme/Conspiracy-Keanu.jpg)\n",
            "52. Grandma Finds The Internet Meme Template (URL: https://imgflip.com/s/meme/Grandma-Finds-The-Internet.jpg)\n",
            "53. Who Killed Hannibal Meme Template (URL: https://imgflip.com/s/meme/Who-Killed-Hannibal.jpg)\n",
            "54. Back In My Day Meme Template (URL: https://imgflip.com/s/meme/Back-In-My-Day.jpg)\n",
            "55. Jack Sparrow Being Chased Meme Template (URL: https://imgflip.com/s/meme/Jack-Sparrow-Being-Chased.jpg)\n",
            "56. Trump Bill Signing Meme Template (URL: https://imgflip.com/s/meme/Trump-Bill-Signing.jpg)\n",
            "57. And everybody loses their minds Meme Template (URL: https://imgflip.com/s/meme/And-everybody-loses-their-minds.jpg)\n",
            "58. Bernie I Am Once Again Asking For Your Support Meme Template (URL: https://imgflip.com/s/meme/Bernie-I-Am-Once-Again-Asking-For-Your-Support.jpg)\n",
            "59. Doge Meme Template (URL: https://imgflip.com/s/meme/Doge.jpg)\n",
            "60. Dr Evil Laser Meme Template (URL: https://imgflip.com/s/meme/Dr-Evil-Laser.jpg)\n",
            "61. Star Wars Yoda Meme Template (URL: https://imgflip.com/s/meme/Star-Wars-Yoda.jpg)\n",
            "62. Oprah You Get A Meme Template (URL: https://imgflip.com/s/meme/Oprah-You-Get-A.jpg)\n",
            "63. UNO Draw 25 Cards Meme Template (URL: https://imgflip.com/s/meme/UNO-Draw-25-Cards.jpg)\n",
            "64. Third World Skeptical Kid Meme Template (URL: https://imgflip.com/s/meme/Third-World-Skeptical-Kid.jpg)\n",
            "65. Steve Harvey Meme Template (URL: https://imgflip.com/s/meme/Steve-Harvey.jpg)\n",
            "66. Inhaling Seagull Meme Template (URL: https://imgflip.com/s/meme/Inhaling-Seagull.jpg)\n",
            "67. Roll Safe Think About It Meme Template (URL: https://imgflip.com/s/meme/Roll-Safe-Think-About-It.jpg)\n",
            "68. Monkey Puppet Meme Template (URL: https://imgflip.com/s/meme/Monkey-Puppet.jpg)\n",
            "69. Batman Slapping Robin Meme Template (URL: https://imgflip.com/s/meme/Batman-Slapping-Robin.jpg)\n",
            "70. Archer Meme Template (URL: https://imgflip.com/s/meme/Archer.jpg)\n",
            "71. Change My Mind Meme Template (URL: https://imgflip.com/s/meme/Change-My-Mind.jpg)\n",
            "72. Be Like Bill Meme Template (URL: https://imgflip.com/s/meme/Be-Like-Bill.jpg)\n",
            "73. Spongebob Ight Imma Head Out Meme Template (URL: https://imgflip.com/s/meme/Spongebob-Ight-Imma-Head-Out.jpg)\n",
            "74. Tuxedo Winnie The Pooh Meme Template (URL: https://imgflip.com/s/meme/Tuxedo-Winnie-The-Pooh.png)\n",
            "75. Futurama Fry Meme Template (URL: https://imgflip.com/s/meme/Futurama-Fry.jpg)\n",
            "76. Bad Luck Brian Meme Template (URL: https://imgflip.com/s/meme/Bad-Luck-Brian.jpg)\n",
            "77. Creepy Condescending Wonka Meme Template (URL: https://imgflip.com/s/meme/Creepy-Condescending-Wonka.jpg)\n",
            "78. The Scroll Of Truth Meme Template (URL: https://imgflip.com/s/meme/The-Scroll-Of-Truth.jpg)\n",
            "79. Face You Make Robert Downey Jr Meme Template (URL: https://imgflip.com/s/meme/Face-You-Make-Robert-Downey-Jr.jpg)\n",
            "80. The Most Interesting Man In The World Meme Template (URL: https://imgflip.com/s/meme/The-Most-Interesting-Man-In-The-World.jpg)\n",
            "81. But That's None Of My Business Meme Template (URL: https://imgflip.com/s/meme/But-Thats-None-Of-My-Business.jpg)\n",
            "82. Maury Lie Detector Meme Template (URL: https://imgflip.com/s/meme/Maury-Lie-Detector.jpg)\n",
            "83. Look At Me Meme Template (URL: https://imgflip.com/s/meme/Look-At-Me.jpg)\n",
            "84. Blank Nut Button Meme Template (URL: https://imgflip.com/s/meme/Blank-Nut-Button.jpg)\n",
            "85. Leonardo Dicaprio Cheers Meme Template (URL: https://imgflip.com/s/meme/Leonardo-Dicaprio-Cheers.jpg)\n",
            "86. Imagination Spongebob Meme Template (URL: https://imgflip.com/s/meme/Imagination-Spongebob.jpg)\n",
            "87. Surprised Pikachu Meme Template (URL: https://imgflip.com/s/meme/Surprised-Pikachu.jpg)\n",
            "88. Ancient Aliens Meme Template (URL: https://imgflip.com/s/meme/Ancient-Aliens.jpg)\n",
            "89. Who Would Win? Meme Template (URL: https://imgflip.com/s/meme/Who-Would-Win.jpg)\n",
            "90. Picard Wtf Meme Template (URL: https://imgflip.com/s/meme/Picard-Wtf.jpg)\n",
            "91. Mocking Spongebob Meme Template (URL: https://imgflip.com/s/meme/Mocking-Spongebob.jpg)\n",
            "92. Black Girl Wat Meme Template (URL: https://imgflip.com/s/meme/Black-Girl-Wat.jpg)\n",
            "93. Y'all Got Any More Of That Meme Template (URL: https://imgflip.com/s/meme/Yall-Got-Any-More-Of-That.jpg)\n",
            "94. Captain Picard Facepalm Meme Template (URL: https://imgflip.com/s/meme/Captain-Picard-Facepalm.jpg)\n",
            "95. Waiting Skeleton Meme Template (URL: https://imgflip.com/s/meme/Waiting-Skeleton.jpg)\n",
            "96. X All The Y Meme Template (URL: https://imgflip.com/s/meme/X-All-The-Y.jpg)\n",
            "97. Evil Toddler Meme Template (URL: https://imgflip.com/s/meme/Evil-Toddler.jpg)\n",
            "98. Marked Safe From Meme Template (URL: https://imgflip.com/s/meme/Marked-Safe-From.jpg)\n",
            "99. I'll Just Wait Here Meme Template (URL: https://imgflip.com/s/meme/Ill-Just-Wait-Here.jpg)\n",
            "100. Hide the Pain Harold Meme Template (URL: https://imgflip.com/s/meme/Hide-the-Pain-Harold.jpg)\n",
            "---\n",
            "Select a meme template by number: 3\n",
            "\n",
            "You selected: See Nobody Cares Meme Template\n",
            "\n",
            "Enter the text for your meme: why?\n",
            "\n",
            "Generating Meme...\n",
            "Template URL: https://imgflip.com/s/meme/See-Nobody-Cares.jpg\n",
            "Meme Text: why?\n",
            "---------------------------\n"
          ]
        },
        {
          "output_type": "error",
          "ename": "FileNotFoundError",
          "evalue": "[Errno 2] No such file or directory: 'https://imgflip.com/s/meme/See-Nobody-Cares.jpg'",
          "traceback": [
            "\u001b[0;31m---------------------------------------------------------------------------\u001b[0m",
            "\u001b[0;31mFileNotFoundError\u001b[0m                         Traceback (most recent call last)",
            "\u001b[0;32m<ipython-input-73-6847c47d2cc8>\u001b[0m in \u001b[0;36m<cell line: 0>\u001b[0;34m()\u001b[0m\n\u001b[1;32m    109\u001b[0m \u001b[0;34m\u001b[0m\u001b[0m\n\u001b[1;32m    110\u001b[0m \u001b[0;32mif\u001b[0m \u001b[0m__name__\u001b[0m \u001b[0;34m==\u001b[0m \u001b[0;34m'__main__'\u001b[0m\u001b[0;34m:\u001b[0m\u001b[0;34m\u001b[0m\u001b[0;34m\u001b[0m\u001b[0m\n\u001b[0;32m--> 111\u001b[0;31m     \u001b[0mmain\u001b[0m\u001b[0;34m(\u001b[0m\u001b[0;34m)\u001b[0m\u001b[0;34m\u001b[0m\u001b[0;34m\u001b[0m\u001b[0m\n\u001b[0m",
            "\u001b[0;32m<ipython-input-73-6847c47d2cc8>\u001b[0m in \u001b[0;36mmain\u001b[0;34m()\u001b[0m\n\u001b[1;32m     88\u001b[0m     \u001b[0mprint\u001b[0m\u001b[0;34m(\u001b[0m\u001b[0;34m\"---------------------------\"\u001b[0m\u001b[0;34m)\u001b[0m\u001b[0;34m\u001b[0m\u001b[0;34m\u001b[0m\u001b[0m\n\u001b[1;32m     89\u001b[0m     \u001b[0mimage_path\u001b[0m \u001b[0;34m=\u001b[0m \u001b[0mselected_template\u001b[0m\u001b[0;34m[\u001b[0m\u001b[0;34m'url'\u001b[0m\u001b[0;34m]\u001b[0m \u001b[0;31m# The URL of the image\u001b[0m\u001b[0;34m\u001b[0m\u001b[0;34m\u001b[0m\u001b[0m\n\u001b[0;32m---> 90\u001b[0;31m     \u001b[0mimage\u001b[0m \u001b[0;34m=\u001b[0m \u001b[0mImage\u001b[0m\u001b[0;34m.\u001b[0m\u001b[0mopen\u001b[0m\u001b[0;34m(\u001b[0m\u001b[0mimage_path\u001b[0m\u001b[0;34m)\u001b[0m\u001b[0;34m\u001b[0m\u001b[0;34m\u001b[0m\u001b[0m\n\u001b[0m\u001b[1;32m     91\u001b[0m \u001b[0;34m\u001b[0m\u001b[0m\n\u001b[1;32m     92\u001b[0m     \u001b[0;31m# Load font (you can use a default font or upload a custom one)\u001b[0m\u001b[0;34m\u001b[0m\u001b[0;34m\u001b[0m\u001b[0m\n",
            "\u001b[0;32m/usr/local/lib/python3.11/dist-packages/PIL/Image.py\u001b[0m in \u001b[0;36mopen\u001b[0;34m(fp, mode, formats)\u001b[0m\n\u001b[1;32m   3463\u001b[0m \u001b[0;34m\u001b[0m\u001b[0m\n\u001b[1;32m   3464\u001b[0m     \u001b[0;32mif\u001b[0m \u001b[0mfilename\u001b[0m\u001b[0;34m:\u001b[0m\u001b[0;34m\u001b[0m\u001b[0;34m\u001b[0m\u001b[0m\n\u001b[0;32m-> 3465\u001b[0;31m         \u001b[0mfp\u001b[0m \u001b[0;34m=\u001b[0m \u001b[0mbuiltins\u001b[0m\u001b[0;34m.\u001b[0m\u001b[0mopen\u001b[0m\u001b[0;34m(\u001b[0m\u001b[0mfilename\u001b[0m\u001b[0;34m,\u001b[0m \u001b[0;34m\"rb\"\u001b[0m\u001b[0;34m)\u001b[0m\u001b[0;34m\u001b[0m\u001b[0;34m\u001b[0m\u001b[0m\n\u001b[0m\u001b[1;32m   3466\u001b[0m         \u001b[0mexclusive_fp\u001b[0m \u001b[0;34m=\u001b[0m \u001b[0;32mTrue\u001b[0m\u001b[0;34m\u001b[0m\u001b[0;34m\u001b[0m\u001b[0m\n\u001b[1;32m   3467\u001b[0m     \u001b[0;32melse\u001b[0m\u001b[0;34m:\u001b[0m\u001b[0;34m\u001b[0m\u001b[0;34m\u001b[0m\u001b[0m\n",
            "\u001b[0;31mFileNotFoundError\u001b[0m: [Errno 2] No such file or directory: 'https://imgflip.com/s/meme/See-Nobody-Cares.jpg'"
          ]
        }
      ]
    },
    {
      "cell_type": "markdown",
      "source": [
        "Create the Streamlit UI: This will allow the user to select a meme template, enter text, and generate the meme."
      ],
      "metadata": {
        "id": "P5wl-_KANLgu"
      }
    },
    {
      "cell_type": "code",
      "source": [
        "from pyngrok import ngrok\n",
        "\n",
        "ngrok.set_auth_token(\"2s9571qRwAcVIhfez2dSYZrBdBZ_3bEmVwvDFkEihT1Bqvsjd\")\n",
        "\n",
        "# !ngrok authtoken NGROK_AUTH_TOKEN\n",
        "\n"
      ],
      "metadata": {
        "id": "wmIinaKPIsp9"
      },
      "execution_count": null,
      "outputs": []
    },
    {
      "cell_type": "code",
      "source": [
        "from pyngrok import ngrok\n",
        "public_url = ngrok.connect(8501)\n",
        "print(f\"Streamlit app is live at {public_url}\")\n"
      ],
      "metadata": {
        "id": "aFRZzTmONM06"
      },
      "execution_count": null,
      "outputs": []
    },
    {
      "cell_type": "markdown",
      "source": [
        ". **Text Overlay on Images:**\n",
        "   - **Objective:** Overlay the text generated by the AI onto the selected meme template image.\n",
        "   - **Task:**\n",
        "     - Use the `PIL` library to open the selected image.\n",
        "     - Draw the generated text on the image using `ImageDraw` from `PIL`. You can specify font, size, and position to customize how the text appears on the meme.\n",
        "   "
      ],
      "metadata": {
        "id": "OO7Ezq9ORFZq"
      }
    },
    {
      "cell_type": "code",
      "source": [
        "import os\n",
        "import json\n",
        "from PIL import Image, ImageFont, ImageDraw\n",
        "\n",
        "# Define paths based on your dataset structure\n",
        "base_dir = '/content/memes_dataset'\n",
        "json_dir_path = os.path.join(base_dir, 'templates')  # Directory containing JSON files\n",
        "img_dir_path = os.path.join(json_dir_path, 'img')   # Directory containing images\n",
        "\n",
        "def load_json_files(json_directory):\n",
        "    meme_templates = []\n",
        "\n",
        "    for file_name in os.listdir(json_directory):\n",
        "        if file_name.endswith('.json'):\n",
        "            json_file_path = os.path.join(json_directory, file_name)\n",
        "\n",
        "            with open(json_file_path, 'r') as file:\n",
        "                data = json.load(file)\n",
        "\n",
        "            # Extract key details based on provided JSON structure\n",
        "            template_name = data.get('title')\n",
        "            template_url = data.get('template_url')  # Even if this exists, use it only for alternate purposes\n",
        "            alternative_names = data.get('alternative_names', '')\n",
        "\n",
        "            alternative_name_list = [name.strip() for name in alternative_names.split(',')] if alternative_names else []\n",
        "\n",
        "            # Assume the local image filename follows a pattern (e.g., based on title or json filename)\n",
        "            # Adjust the filename rules based on your actual file naming pattern\n",
        "            image_file_name = f\"{template_name.replace(' ', '_').lower()}.jpg\"\n",
        "            image_path = os.path.join(img_dir_path, image_file_name)\n",
        "\n",
        "            meme_template_info = {\n",
        "                'name': template_name,\n",
        "                'local_path': image_path,\n",
        "                'alternative_names': alternative_name_list\n",
        "            }\n",
        "\n",
        "            meme_templates.append(meme_template_info)\n",
        "\n",
        "    return meme_templates\n",
        "\n",
        "def display_templates(templates):\n",
        "    print(\"\\nAvailable Meme Templates:\")\n",
        "    for idx, template in enumerate(templates, start=1):\n",
        "        print(f\"{idx}. {template['name']}\")\n",
        "    print(\"---\")\n",
        "\n",
        "def select_template(templates):\n",
        "    while True:\n",
        "        try:\n",
        "            choice = int(input(\"Select a meme template by number: \")) - 1\n",
        "            if 0 <= choice < len(templates):\n",
        "                return templates[choice]\n",
        "            else:\n",
        "                print(\"Invalid choice. Please select a valid number.\")\n",
        "        except ValueError:\n",
        "            print(\"Please enter a number.\")\n",
        "\n",
        "def get_meme_text():\n",
        "    return input(\"Enter the text for your meme: \")\n",
        "\n",
        "def overlay_text_on_image(image_path, text, output_path, position=(50, 50), font_size=20, color='rgb(255, 255, 255)'):\n",
        "    try:\n",
        "        image = Image.open(image_path)\n",
        "        draw = ImageDraw.Draw(image)\n",
        "        font_path = \"/usr/share/fonts/truetype/dejavu/DejaVuSans-Bold.ttf\"\n",
        "        font = ImageFont.truetype(font_path, font_size)\n",
        "        draw.text(position, text, font=font, fill=color)\n",
        "        image.save(output_path)\n",
        "        image.show()\n",
        "    except IOError:\n",
        "        print(f\"Unable to open image at {image_path}. Check the file name or path.\")\n",
        "\n",
        "def main():\n",
        "    meme_templates = load_json_files(json_dir_path)\n",
        "    display_templates(meme_templates)\n",
        "\n",
        "    selected_template = select_template(meme_templates)\n",
        "    print(f\"\\nYou selected: {selected_template['name']}\\n\")\n",
        "\n",
        "    meme_text = get_meme_text()\n",
        "    print(\"\\nGenerating Meme...\")\n",
        "    print(f\"Meme Text: {meme_text}\")\n",
        "\n",
        "    print(\"---------------------------\")\n",
        "    image_path = selected_template['local_path']\n",
        "    output_path = \"/content/meme_with_text.png\"\n",
        "\n",
        "    overlay_text_on_image(image_path, meme_text, output_path)\n",
        "\n",
        "if __name__ == '__main__':\n",
        "    main()"
      ],
      "metadata": {
        "id": "ZRX8k7QyP31x"
      },
      "execution_count": null,
      "outputs": []
    },
    {
      "cell_type": "code",
      "source": [
        "# import os\n",
        "# import json\n",
        "# from PIL import Image, ImageFont, ImageDraw\n",
        "\n",
        "# # Define paths based on your dataset structure\n",
        "# base_dir = '/content/memes_dataset'\n",
        "# json_dir_path = os.path.join(base_dir, 'templates')  # Directory containing JSON files\n",
        "# img_dir_path = base_dir   # Directory containing images is directly in memes_dataset\n",
        "\n",
        "# def load_json_files(json_directory):\n",
        "#     meme_templates = []\n",
        "\n",
        "#     for file_name in os.listdir(json_directory):\n",
        "#         if file_name.endswith('.json'):\n",
        "#             json_file_path = os.path.join(json_directory, file_name)\n",
        "\n",
        "#             with open(json_file_path, 'r') as file:\n",
        "#                 data = json.load(file)\n",
        "\n",
        "#             # Extract key details based on provided JSON structure\n",
        "#             template_name = data.get('title')\n",
        "#             alternative_names = data.get('alternative_names', '')\n",
        "\n",
        "#             # Prepare the image name by converting the template name to the messed-up version\n",
        "#             image_file_name = template_name.lower().replace(' ', '_') + '_meme_template.jpg'\n",
        "#             image_path = os.path.join(img_dir_path, image_file_name)\n",
        "\n",
        "#             meme_template_info = {\n",
        "#                 'name': template_name,\n",
        "#                 'local_path': image_path,\n",
        "#                 'alternative_names': [name.strip() for name in alternative_names.split(',')] if alternative_names else []\n",
        "#             }\n",
        "\n",
        "#             meme_templates.append(meme_template_info)\n",
        "\n",
        "#     return meme_templates\n",
        "\n",
        "# def display_templates(templates):\n",
        "#     print(\"\\nAvailable Meme Templates:\")\n",
        "#     for idx, template in enumerate(templates, start=1):\n",
        "#         print(f\"{idx}. {template['name']}\")\n",
        "#     print(\"---\")\n",
        "\n",
        "# def select_template(templates):\n",
        "#     while True:\n",
        "#         try:\n",
        "#             choice = int(input(\"Select a meme template by number: \")) - 1\n",
        "#             if 0 <= choice < len(templates):\n",
        "#                 return templates[choice]\n",
        "#             else:\n",
        "#                 print(\"Invalid choice. Please select a valid number.\")\n",
        "#         except ValueError:\n",
        "#             print(\"Please enter a number.\")\n",
        "\n",
        "# def get_meme_text():\n",
        "#     return input(\"Enter the text for your meme: \")\n",
        "\n",
        "# def overlay_text_on_image(image_path, text, output_path, position=(50, 50), font_size=20, color='rgb(255, 255, 255)'):\n",
        "#     try:\n",
        "#         image = Image.open(image_path)\n",
        "#         draw = ImageDraw.Draw(image)\n",
        "#         font_path = \"/usr/share/fonts/truetype/dejavu/DejaVuSans-Bold.ttf\"\n",
        "#         font = ImageFont.truetype(font_path, font_size)\n",
        "#         draw.text(position, text, font=font, fill=color)\n",
        "#         image.save(output_path)\n",
        "#         image.show()\n",
        "#     except IOError:\n",
        "#         print(f\"Unable to open image at {image_path}. Check the file name or path.\")\n",
        "\n",
        "# def main():\n",
        "#     meme_templates = load_json_files(json_dir_path)\n",
        "#     display_templates(meme_templates)\n",
        "\n",
        "#     selected_template = select_template(meme_templates)\n",
        "#     print(f\"\\nYou selected: {selected_template['name']}\\n\")\n",
        "\n",
        "#     meme_text = get_meme_text()\n",
        "#     print(\"\\nGenerating Meme...\")\n",
        "#     print(f\"Meme Text: {meme_text}\")\n",
        "\n",
        "#     print(\"---------------------------\")\n",
        "#     image_path = selected_template['local_path']\n",
        "#     output_path = \"/content/meme_with_text.png\"\n",
        "\n",
        "#     overlay_text_on_image(image_path, meme_text, output_path)\n",
        "\n",
        "# if __name__ == '__main__':\n",
        "#     main()\n"
      ],
      "metadata": {
        "id": "2V1AvV-eRMKn"
      },
      "execution_count": null,
      "outputs": []
    },
    {
      "cell_type": "code",
      "source": [],
      "metadata": {
        "id": "K_LEJU1kXWAN"
      },
      "execution_count": null,
      "outputs": []
    }
  ]
}